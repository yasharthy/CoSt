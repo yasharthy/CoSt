{
 "cells": [
  {
   "cell_type": "markdown",
   "metadata": {
    "id": "-odA2j451M16"
   },
   "source": [
    "# Codes to reproduce all figures of the manuscript “Relative importance of composition structures and biologically meaningful logics in bipartite Boolean models of gene regulation”\n",
    "\n",
    "Provided below are the codes to reproduce all of the figures in the manuscript in the following order:\n",
    "1. Figures 2(c) and 2(d): log-log plot of the frequency distribution of the number of enhancers that are bound by different number of transciption factors\n",
    "2. Figure 3(a) and Figure 3(b): Computing the overlap and making UpSet plots\n",
    "3. Figure 4(a) and 4(b): Making the enrichment plots \n",
    "4. Supplementary Figures 1(a) and 1(b): frequency distribution of the number of enhancers that are bound by different number of transciption factors"
   ]
  },
  {
   "cell_type": "markdown",
   "metadata": {
    "id": "7HplmhSSJlg1"
   },
   "source": [
    "Given below are all the packages to be imported for the codes to run. Please run this before running any other code in the notebook"
   ]
  },
  {
   "cell_type": "code",
   "execution_count": null,
   "metadata": {
    "id": "QbUb_m8KJ4-f",
    "tags": []
   },
   "outputs": [],
   "source": [
    "#!pip3 install brokenaxes==0.2\n",
    "#!pip3 install upsetplot\n",
    "\n",
    "import numpy as np\n",
    "from collections import Counter\n",
    "import matplotlib.pyplot as plt\n",
    "from BF_compositions import *\n",
    "import pandas as pd\n",
    "from matplotlib import rc\n",
    "from upsetplot import plot\n",
    "from brokenaxes import brokenaxes"
   ]
  },
  {
   "cell_type": "markdown",
   "metadata": {
    "id": "i5Ht6YnC1a1R",
    "tags": []
   },
   "source": [
    "1. Figures 2(c) and 2(d): log-log plot of the frequency distribution of the number of enhancers that are bound by different number of transciption factors"
   ]
  },
  {
   "cell_type": "code",
   "execution_count": null,
   "metadata": {
    "id": "Q6NFIxJ2wMAs"
   },
   "outputs": [],
   "source": [
    "def generate_fig2 (subplot):\n",
    "    if subplot == 'a':\n",
    "        filename = '../DATA/hepg2_encode_enh_treg.tsv'\n",
    "    elif subplot == 'b':\n",
    "        filename = '../DATA/k562_encode_enh_treg.tsv'\n",
    "    else:\n",
    "        print (\"Please enter valid subfigure: 'a' or 'b'\")\n",
    "        return None\n",
    "\n",
    "    df = pd.read_csv(filename, sep = '\\t')\n",
    "    #Get the number of unique TRs binding at each enhancer\n",
    "    num_tf = []\n",
    "    tf_names = []\n",
    "    bind_names = list(df['tfs_bound'])\n",
    "    all_tfs_bind = []\n",
    "    for i in range(len(bind_names)):\n",
    "        tfs = bind_names[i]\n",
    "        if tfs == tfs:\n",
    "            uni_tf_name = list(set([ele for ele in tfs.split('|') if '*' not in ele]))\n",
    "            if '' in uni_tf_name:\n",
    "                uni_tf_name.remove('')\n",
    "            num_tf += [len(uni_tf_name)]\n",
    "            all_tfs_bind += uni_tf_name\n",
    "        else:\n",
    "            uni_tf_name = []\n",
    "            num_tf += [0]\n",
    "\n",
    "    Q1 = dict(Counter(num_tf))\n",
    "    # Plotting the figure\t\n",
    "    fig = plt.figure(figsize=(8, 5))\n",
    "    ax = plt.gca()\n",
    "    x_points = [x+1 for x in Q1.keys()]\n",
    "    ax.scatter(x_points, Q1.values(), color= 'brown', s = 10)\n",
    "    ax.set_xlabel('Number of TFs per enhancer', labelpad = 10, fontsize = 12)\n",
    "    ax.set_ylabel('Number of enhancers', labelpad = 10, fontsize = 12)\n",
    "    ax.set_yscale('log')\n",
    "    ax.set_xscale('log')\n",
    "    ax.spines['top'].set_visible(False)\n",
    "    ax.spines['right'].set_visible(False)\n",
    "    plt.show()\n",
    "    return None\n",
    "\n",
    "fig2 = generate_fig2 ('a')"
   ]
  },
  {
   "cell_type": "markdown",
   "metadata": {
    "id": "ZNdey6jQ9oJF"
   },
   "source": [
    "2. Figure 3(a) and Figure 3(b): Computing the overlap and making UpSet plots\n",
    "\n"
   ]
  },
  {
   "cell_type": "code",
   "execution_count": null,
   "metadata": {
    "id": "8SsKM5HS94QU",
    "tags": []
   },
   "outputs": [],
   "source": [
    "def generate_set_matrix(sets, set_names):\n",
    "    import pandas as pd\n",
    "    all_elems = list(set().union(*sets))\n",
    "    df = pd.DataFrame([[e in st for st in sets] for e in all_elems], columns = set_names)\n",
    "    df_up = df.groupby(set_names).size()\n",
    "    return df_up\n",
    "\n",
    "def generate_fig3 (subplot):\n",
    "    if subplot == 'a':\n",
    "      comp_struc_list = [[1,3],[2,2],[1,1,2]]\n",
    "    elif subplot == 'b':\n",
    "      comp_struc_list = [[1,4],[2,3],[1,1,3],[1,2,2],[1,1,1,2]]\n",
    "    else:\n",
    "      print (\"Please enter valid subfigure: 'a' or 'b'\")\n",
    "      return None\n",
    "  \n",
    "    distinct_logics_dict = {'{' + ','.join([str(x) for x in comp_struc]) + '}' : set(generate.read_all_composed_BF(comp_struc)) for comp_struc in comp_struc_list}\n",
    "    sets = list(distinct_logics_dict.values())\n",
    "    set_names = list(distinct_logics_dict.keys())\n",
    "    df = generate_set_matrix(sets, set_names)\n",
    "\n",
    "    rc('font',**{'family':'sans-serif','sans-serif':['Arial']})\n",
    "    if subplot == 'a':\n",
    "      fig = plt.figure(figsize=(6,4))\n",
    "    elif subplot == 'b':\n",
    "      fig = plt.figure(figsize=(12,8))\n",
    "    plot(df, fig =fig, show_counts = True, sort_by = 'cardinality', facecolor=\"forestgreen\", element_size=None)\n",
    "    plt.show()\n",
    "    return None\n",
    "  \n",
    "fig3 = generate_fig3('b')"
   ]
  },
  {
   "cell_type": "markdown",
   "metadata": {
    "id": "rcxgjL0NDawl"
   },
   "source": [
    "3. Figure 4(a) and 4(b): Making the enrichment plots"
   ]
  },
  {
   "cell_type": "code",
   "execution_count": null,
   "metadata": {
    "id": "bGgx8i6BDfB4",
    "jupyter": {
     "source_hidden": true
    },
    "tags": []
   },
   "outputs": [],
   "source": [
    "import pandas as pd\n",
    "import numpy as np\n",
    "import plotly.express as px\n",
    "import plotly.graph_objects as go\n",
    "import plotly.subplots as sp\n",
    "\n",
    "def generate_fig4a(k):\n",
    "  if k==5:\n",
    "    xlim = 10\n",
    "    res_width = 600\n",
    "    bar_width = 1.1\n",
    "  if k==4:\n",
    "    xlim = 6\n",
    "    res_width = 400\n",
    "    bar_width = 1.1\n",
    "  if k==3:\n",
    "    xlim = 2\n",
    "    res_width = 250\n",
    "    bar_width = 1.1\n",
    "\n",
    "  rand_df = pd.read_csv('../DATA/frac_rand.tsv', sep = '\\t')\n",
    "  rand_df = rand_df[rand_df['k']==k]\n",
    "  #print(rand_df)\n",
    "  cols = [col for col in rand_df.columns]\n",
    "  emp_df = pd.read_csv('../DATA/frac_emp.tsv', sep = '\\t')\n",
    "  emp_df = emp_df[emp_df['k']==k]\n",
    "  #print(emp_df)\n",
    "\n",
    "  x_values = []\n",
    "  x_label = 1\n",
    "  emp_fracs = []\n",
    "  for i,j in emp_df.iterrows():\n",
    "      for col in cols[2:3]:\n",
    "          emp_fracs.append(j[col])\n",
    "          x_values.append(x_label)\n",
    "          x_label += 1\n",
    "      x_label += 1\n",
    "\n",
    "  rand_fracs = []\n",
    "  for i,j in rand_df.iterrows():\n",
    "      for col in cols[2:3]:\n",
    "          rand_fracs.append(j[col])\n",
    "\n",
    "  colors = ['#D1D3D4']\n",
    "\n",
    "  fig = go.Figure(data=[go.Bar(x=x_values, y=emp_fracs, marker_color=colors*len(emp_df), width = [bar_width]*len(x_values))])\n",
    "  fig.add_trace(go.Scatter(x=x_values, y=rand_fracs, mode='markers', marker_color = 'black', marker_size = 8))\n",
    "\n",
    "  fig.update_layout(plot_bgcolor='#fff', width=res_width, height=400, showlegend = False, font_size = 14)\n",
    "  fig.update_yaxes(showline = True, linewidth = 1, linecolor = 'black', ticks='outside', showgrid=False, range = [0,1.05], dtick=0.2) #gridcolor='#eee', gridwidth=1.5\n",
    "  fig.update_xaxes(showline=True, linewidth=1, linecolor='black', showticklabels=False, range=[0,xlim])#,mirror=True,ticks='outside')#, showticklabels=True)\n",
    "  fig.update_traces(marker=dict(line=dict(width=0.3, color='black')))\n",
    "\n",
    "  fig.show()\n",
    "  return None\n",
    "\n",
    "def generate_fig4b(k):\n",
    "  if k==5:\n",
    "    xlim = 25\n",
    "    res_width = 900\n",
    "    bar_width = 0.7\n",
    "  if k==4:\n",
    "    xlim = 15\n",
    "    res_width = 600\n",
    "    bar_width = 0.7\n",
    "  if k==3:\n",
    "    xlim = 5\n",
    "    res_width = 310\n",
    "    bar_width = 0.7\n",
    "\n",
    "  rand_df = pd.read_csv('../DATA/frac_rand.tsv', sep = '\\t')\n",
    "  rand_df.drop(['frac_CS_EF'], axis = 1, inplace = True)\n",
    "  rand_df = rand_df[rand_df['k']==k]\n",
    "  print(rand_df)\n",
    "  cols = [col for col in rand_df.columns]\n",
    "  emp_df = pd.read_csv('../DATA/frac_emp.tsv', sep = '\\t')\n",
    "  emp_df.drop(['frac_CS_EF'], axis = 1, inplace = True)\n",
    "  emp_df = emp_df[emp_df['k']==k]\n",
    "  #print(emp_df)\n",
    "\n",
    "  x_values = []\n",
    "  x_label = 1\n",
    "  emp_fracs = []\n",
    "  for i,j in emp_df.iterrows():\n",
    "      for col in cols[3:]:\n",
    "          emp_fracs.append(j[col])\n",
    "          x_values.append(x_label)\n",
    "          x_label += 1\n",
    "      x_label += 1\n",
    "\n",
    "  rand_fracs = []\n",
    "  for i,j in rand_df.iterrows():\n",
    "      for col in cols[3:]:\n",
    "          rand_fracs.append(j[col])\n",
    "\n",
    "  #Make figure\n",
    "  colors = ['#FF8AAE','#FFB72B','#5EE6EB','#56BBF1']\n",
    "\n",
    "  fig = go.Figure(data=[go.Bar(x=x_values, y=emp_fracs, marker_color=colors*len(emp_df), width = [bar_width]*len(x_values))])\n",
    "  fig.add_trace(go.Scatter(x=x_values, y=rand_fracs, mode='markers', marker_color = 'black', marker_size = 8))\n",
    "\n",
    "  fig.update_layout(plot_bgcolor='#fff', width=res_width, height=400, showlegend = False, font_size = 14)\n",
    "  fig.update_yaxes(showline = True, linewidth = 1, linecolor = 'black', ticks='outside', showgrid=False, range = [0,1.05], dtick=0.2) #gridcolor='#eee', gridwidth=1.5\n",
    "  fig.update_xaxes(showline=True, linewidth=1, linecolor='black', showticklabels=False, range=[0,xlim])#,mirror=True,ticks='outside')#, showticklabels=True)\n",
    "  fig.update_traces(marker=dict(line=dict(width=0.3, color='black')))\n",
    "\n",
    "  fig.show()\n",
    "  return None\n",
    "\n",
    "def generate_fig4(subplot,k):\n",
    "  if k < 3 or k > 5:\n",
    "    print (\"Enter valid k values (3,4, or 5).\")\n",
    "    return None\n",
    "  if subplot == 'a':\n",
    "    generate_fig4a(k)\n",
    "  elif subplot == 'b':\n",
    "    generate_fig4b(k)\n",
    "  else:\n",
    "    print (\"Please enter valid subfigure: 'a' or 'b'\")\n",
    "    return None\n",
    "\n",
    "fig4 = generate_fig4('a',4)"
   ]
  },
  {
   "cell_type": "markdown",
   "metadata": {
    "id": "xXuuznpX29h0"
   },
   "source": [
    "4. Supplementary Figures 1(a) and 1(b): frequency distribution of the number of enhancers that are bound by different number of transciption factors"
   ]
  },
  {
   "cell_type": "code",
   "execution_count": null,
   "metadata": {
    "id": "s3lBztzI29z0"
   },
   "outputs": [],
   "source": [
    "def generate_si_fig1 (subplot):\n",
    "    if subplot == 'a':\n",
    "      filename = '../DATA/hepg2_encode_enh_treg.tsv'\n",
    "    elif subplot == 'b':\n",
    "      filename = '../DATA/k562_encode_enh_treg.tsv'\n",
    "    else:\n",
    "      print (\"Please enter valid subfigure: 'a' or 'b'\")\n",
    "      return None\n",
    "\n",
    "    df = pd.read_csv(filename, sep = '\\t') # load file into a dataframe\n",
    "\n",
    "    #Get the number of unique TRs binding at each enhancer\n",
    "    num_tf = []\n",
    "    tf_names = []\n",
    "    bind_names = list(df['tfs_bound'])\n",
    "    all_tfs_bind = []\n",
    "    for i in range(len(bind_names)):\n",
    "      tfs = bind_names[i]\n",
    "      if tfs == tfs:\n",
    "        uni_tf_name = list(set([ele for ele in tfs.split('|') if '*' not in ele]))\n",
    "        if '' in uni_tf_name:\n",
    "          uni_tf_name.remove('')\n",
    "        num_tf += [len(uni_tf_name)]\n",
    "        all_tfs_bind += uni_tf_name\n",
    "      else:\n",
    "        uni_tf_name = []\n",
    "        num_tf += [0]\n",
    "\n",
    "    Q1 = dict(Counter(num_tf))\n",
    "\n",
    "    #from 0 to 50 of TFs that can bind to an enhancer\n",
    "    Q2 = {ele: Q1[ele] for ele in list(Q1.keys()) if ele in range(0,51)}\n",
    "    fig = plt.figure(figsize=(8, 5))\n",
    "    if subplot == 'a':\n",
    "      baxes = brokenaxes(xlims = ((-1.5,50.5),), ylims = ((0,3200),(18800,19200)), hspace = 0.03)\n",
    "    elif subplot == 'b':\n",
    "      baxes = brokenaxes(xlims = ((-1.5,50.5),), ylims = ((0,2100),(9400,9600)), hspace = 0.03)\n",
    "    fig = baxes\n",
    "    fig.bar(Q2.keys(), Q2.values(), color= 'gold', linewidth = 0.5, edgecolor = 'black')\n",
    "    fig.set_xlabel('Number of TFs per enhancer', labelpad = 20)\n",
    "    baxes.set_ylabel('Number of enhancers', labelpad = 35)\n",
    "    fig.set_xticks(np.arange(min(Q2.keys()), max(Q2.keys())+1, 5))\n",
    "    plt.show()\n",
    "    return None\n",
    "\n",
    "si_fig1 = generate_si_fig1('a')"
   ]
  }
 ],
 "metadata": {
  "colab": {
   "collapsed_sections": [],
   "provenance": []
  },
  "kernelspec": {
   "display_name": "Python 3 (ipykernel)",
   "language": "python",
   "name": "python3"
  },
  "language_info": {
   "codemirror_mode": {
    "name": "ipython",
    "version": 3
   },
   "file_extension": ".py",
   "mimetype": "text/x-python",
   "name": "python",
   "nbconvert_exporter": "python",
   "pygments_lexer": "ipython3",
   "version": "3.10.6"
  }
 },
 "nbformat": 4,
 "nbformat_minor": 4
}
